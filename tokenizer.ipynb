{
 "cells": [
  {
   "cell_type": "code",
   "execution_count": 48,
   "id": "273bbdb4",
   "metadata": {},
   "outputs": [],
   "source": [
    "import pandas as pd\n",
    "from tokenizers import SentencePieceBPETokenizer\n",
    "from datasets import load_dataset"
   ]
  },
  {
   "cell_type": "markdown",
   "id": "1d686fc8",
   "metadata": {},
   "source": [
    "## Data Load"
   ]
  },
  {
   "cell_type": "code",
   "execution_count": 49,
   "id": "335f641b",
   "metadata": {},
   "outputs": [],
   "source": [
    "# train = pd.read_csv(\"./data/ratings_train.txt\", sep=\"\\t\")\n",
    "# test = pd.read_csv(\"./data/ratings_test.txt\", sep=\"\\t\")\n",
    "\n",
    "# train = train.dropna(axis=0, subset=[\"document\"])\n",
    "# test = test.dropna(axis=0, subset=[\"document\"])\n",
    "# print(train.shape, test.shape)\n",
    "# train.head()"
   ]
  },
  {
   "cell_type": "code",
   "execution_count": 50,
   "id": "e0cd9979",
   "metadata": {},
   "outputs": [],
   "source": [
    "# train.drop(\"id\", axis=1).to_csv(\"./data/ratings_train.csv\", index=False)\n",
    "# test.drop(\"id\", axis=1).to_csv(\"./data/ratings_test.csv\", index=False)"
   ]
  },
  {
   "cell_type": "markdown",
   "id": "9f33207e",
   "metadata": {},
   "source": [
    "## Tokenize with NSMC"
   ]
  },
  {
   "cell_type": "code",
   "execution_count": 51,
   "id": "003fcc7b",
   "metadata": {},
   "outputs": [],
   "source": [
    "# tokenizer = SentencePieceBPETokenizer()\n",
    "# tokenizer"
   ]
  },
  {
   "cell_type": "code",
   "execution_count": 52,
   "id": "a6cde385",
   "metadata": {},
   "outputs": [],
   "source": [
    "# train_file = \"./data/ratings_train.txt\"\n",
    "\n",
    "# tokenizer.train([train_file], vocab_size=3200)"
   ]
  },
  {
   "cell_type": "code",
   "execution_count": 53,
   "id": "eb52768d",
   "metadata": {},
   "outputs": [],
   "source": [
    "# for t in train.document.values[:3]:\n",
    "#     output = tokenizer.encode(t)\n",
    "#     print(t)\n",
    "#     print(output.ids)\n",
    "#     print(output.tokens)\n",
    "#     print(output.offsets, \"\\n\")"
   ]
  },
  {
   "cell_type": "code",
   "execution_count": 54,
   "id": "dda9a449",
   "metadata": {},
   "outputs": [],
   "source": [
    "# import os\n",
    "\n",
    "# if not os.path.isdir(\"./data/nsmc_sentenctpiece\"):\n",
    "#     os.mkdir(\"./data/nsmc_sentenctpiece\")\n",
    "# tokenizer.save_model(\"./data/nsmc_sentenctpiece\")"
   ]
  },
  {
   "cell_type": "markdown",
   "id": "41c80251",
   "metadata": {},
   "source": [
    "## Data Load"
   ]
  },
  {
   "cell_type": "code",
   "execution_count": 55,
   "id": "465ca882",
   "metadata": {},
   "outputs": [
    {
     "name": "stderr",
     "output_type": "stream",
     "text": [
      "Found cached dataset csv (/home/yehoon/.cache/huggingface/datasets/csv/default-a8458de001e53873/0.0.0/6954658bab30a358235fa864b05cf819af0e179325c740e4bc853bcc7ec513e1)\n"
     ]
    },
    {
     "data": {
      "application/json": {
       "ascii": false,
       "bar_format": null,
       "colour": null,
       "elapsed": 0.015710115432739258,
       "initial": 0,
       "n": 0,
       "ncols": null,
       "nrows": 25,
       "postfix": null,
       "prefix": "",
       "rate": null,
       "total": 2,
       "unit": "it",
       "unit_divisor": 1000,
       "unit_scale": false
      },
      "application/vnd.jupyter.widget-view+json": {
       "model_id": "57d10c95cb5945d982aed26d0b9d22fc",
       "version_major": 2,
       "version_minor": 0
      },
      "text/plain": [
       "  0%|          | 0/2 [00:00<?, ?it/s]"
      ]
     },
     "metadata": {},
     "output_type": "display_data"
    }
   ],
   "source": [
    "data_files = {\"train\": \"data/ratings_train.csv\", \"test\": \"data/ratings_test.csv\"}\n",
    "dataset = load_dataset(\"csv\", data_files= data_files)"
   ]
  },
  {
   "cell_type": "code",
   "execution_count": 56,
   "id": "8ed30a5a",
   "metadata": {},
   "outputs": [
    {
     "data": {
      "text/plain": [
       "Dataset({\n",
       "    features: ['document', 'label'],\n",
       "    num_rows: 149995\n",
       "})"
      ]
     },
     "execution_count": 56,
     "metadata": {},
     "output_type": "execute_result"
    }
   ],
   "source": [
    "dataset[\"train\"]"
   ]
  },
  {
   "cell_type": "markdown",
   "id": "2c9eb7a7",
   "metadata": {},
   "source": [
    "## Tokenize with LLaMA"
   ]
  },
  {
   "cell_type": "code",
   "execution_count": 57,
   "id": "8f6a68dd",
   "metadata": {},
   "outputs": [],
   "source": [
    "from transformers import LlamaTokenizer"
   ]
  },
  {
   "cell_type": "code",
   "execution_count": 58,
   "id": "1e2c32f9",
   "metadata": {},
   "outputs": [
    {
     "name": "stderr",
     "output_type": "stream",
     "text": [
      "The tokenizer class you load from this checkpoint is not the same type as the class this function is called from. It may result in unexpected tokenization. \n",
      "The tokenizer class you load from this checkpoint is 'LLaMATokenizer'. \n",
      "The class this function is called from is 'LlamaTokenizer'.\n"
     ]
    }
   ],
   "source": [
    "tokenizer = LlamaTokenizer.from_pretrained(\"decapoda-research/llama-13b-hf\")"
   ]
  },
  {
   "cell_type": "code",
   "execution_count": 65,
   "id": "fbcc0208",
   "metadata": {},
   "outputs": [],
   "source": [
    "def tokenize_function(examples):\n",
    "#     tokenizer.pad_token = tokenizer.eos_token\n",
    "#     tokenizer.add_special_tokens({'pad_token': '[PAD]'})\n",
    "    tokenizer.pad_token_id = 0\n",
    "#     return tokenizer((examples[\"document\"]), padding=\"max_length\", return_tensors=\"pt\")\n",
    "    return tokenizer(examples[\"document\"], padding=\"max_length\", truncation=True, max_length=32000, return_tensors=\"pt\")\n",
    "#     print(examples[\"document\"])\n",
    "#     return tokenizer(examples[\"document\"])"
   ]
  },
  {
   "cell_type": "code",
   "execution_count": 71,
   "id": "45b36dfb",
   "metadata": {},
   "outputs": [],
   "source": [
    "tokenizer.pad_token_id"
   ]
  },
  {
   "cell_type": "code",
   "execution_count": 72,
   "id": "336fd520",
   "metadata": {},
   "outputs": [
    {
     "data": {
      "text/plain": [
       "'비교적 원작을 잘 담은 영화!'"
      ]
     },
     "execution_count": 72,
     "metadata": {},
     "output_type": "execute_result"
    }
   ],
   "source": [
    "dataset[\"train\"][\"document\"][123132]"
   ]
  },
  {
   "cell_type": "code",
   "execution_count": 75,
   "id": "345d4331",
   "metadata": {},
   "outputs": [
    {
     "name": "stderr",
     "output_type": "stream",
     "text": [
      "Loading cached processed dataset at /home/yehoon/.cache/huggingface/datasets/csv/default-a8458de001e53873/0.0.0/6954658bab30a358235fa864b05cf819af0e179325c740e4bc853bcc7ec513e1/cache-e25f9018438636be.arrow\n",
      "Loading cached processed dataset at /home/yehoon/.cache/huggingface/datasets/csv/default-a8458de001e53873/0.0.0/6954658bab30a358235fa864b05cf819af0e179325c740e4bc853bcc7ec513e1/cache-6b0f9f2703222b77.arrow\n"
     ]
    }
   ],
   "source": [
    "tokenized_dataset = dataset.map(tokenize_function)"
   ]
  },
  {
   "cell_type": "code",
   "execution_count": 76,
   "id": "89db5ca0",
   "metadata": {},
   "outputs": [],
   "source": [
    "# tokenizer.decode(tokenizer.encode(dataset[\"train\"][\"document\"][123132], bos=True, eos=True))"
   ]
  },
  {
   "cell_type": "code",
   "execution_count": null,
   "id": "a46bb567",
   "metadata": {},
   "outputs": [],
   "source": [
    "len(tokenized_dataset[\"train\"][\"input_ids\"][0]), tokenized_dataset[\"train\"][\"input_ids\"]"
   ]
  },
  {
   "cell_type": "code",
   "execution_count": null,
   "id": "d11babc7",
   "metadata": {},
   "outputs": [],
   "source": [
    "tokenized_dataset = tokenized_dataset.remove_columns([\"document\"])\n",
    "tokenized_dataset = tokenized_dataset.remove_columns([\"label\"])\n",
    "tokenized_dataset = tokenized_dataset.remove_columns([\"attention_mask\"])\n",
    "# tokenized_dataset = tokenized_dataset.rename_column(\"label\", \"labels\")"
   ]
  },
  {
   "cell_type": "code",
   "execution_count": null,
   "id": "0a46e2f9",
   "metadata": {},
   "outputs": [],
   "source": [
    "tokenized_dataset.set_format(\"torch\")"
   ]
  },
  {
   "cell_type": "code",
   "execution_count": null,
   "id": "d4603313",
   "metadata": {},
   "outputs": [],
   "source": [
    "type(tokenized_dataset[\"train\"][\"input_ids\"]), len(tokenized_dataset[\"train\"][\"input_ids\"][0])"
   ]
  },
  {
   "cell_type": "code",
   "execution_count": null,
   "id": "98f82b66",
   "metadata": {},
   "outputs": [],
   "source": [
    "tokenizer.encode(\"[PAD]\")"
   ]
  },
  {
   "cell_type": "code",
   "execution_count": null,
   "id": "dd9d1318",
   "metadata": {},
   "outputs": [],
   "source": [
    "from torch.utils.data import DataLoader"
   ]
  },
  {
   "cell_type": "code",
   "execution_count": null,
   "id": "df3686e6",
   "metadata": {},
   "outputs": [],
   "source": [
    "train_loader = DataLoader(tokenized_dataset[\"train\"], shuffle=True, batch_size=256)\n",
    "eval_loader = DataLoader(tokenized_dataset[\"test\"], shuffle=True, batch_size=256)"
   ]
  },
  {
   "cell_type": "code",
   "execution_count": null,
   "id": "dbdeb84c",
   "metadata": {},
   "outputs": [],
   "source": [
    "len(train_loader.dataset[\"input_ids\"][54354])"
   ]
  },
  {
   "cell_type": "code",
   "execution_count": null,
   "id": "8b7aee4a",
   "metadata": {},
   "outputs": [],
   "source": [
    "from transformers import AutoModelForCausalLM\n",
    "model = AutoModelForCausalLM.from_pretrained(\"decapoda-research/llama-7b-hf\")"
   ]
  },
  {
   "cell_type": "code",
   "execution_count": null,
   "id": "d4d1482d",
   "metadata": {},
   "outputs": [],
   "source": [
    "from torch.optim import AdamW\n",
    "\n",
    "optimizer = AdamW(model.parameters(), lr=5e-5)"
   ]
  },
  {
   "cell_type": "code",
   "execution_count": null,
   "id": "89862f9e",
   "metadata": {},
   "outputs": [],
   "source": [
    "from transformers import get_scheduler\n",
    "\n",
    "num_epochs = 3\n",
    "num_training_steps = num_epochs * len(train_loader)\n",
    "lr_scheduler = get_scheduler(\n",
    "    name=\"linear\", optimizer=optimizer, num_warmup_steps=0, num_training_steps=num_training_steps\n",
    ")"
   ]
  },
  {
   "cell_type": "code",
   "execution_count": null,
   "id": "12b62357",
   "metadata": {},
   "outputs": [],
   "source": [
    "import torch\n",
    "\n",
    "# device = torch.device(\"cuda\") if torch.cuda.is_available() else torch.device(\"cpu\")\n",
    "device=\"cpu\"\n",
    "model.to(device)"
   ]
  },
  {
   "cell_type": "code",
   "execution_count": null,
   "id": "51a450b5",
   "metadata": {},
   "outputs": [],
   "source": [
    "from tqdm.auto import tqdm\n",
    "\n",
    "progress_bar = tqdm(range(num_training_steps))\n",
    "\n",
    "model.train()\n",
    "for epoch in range(num_epochs):\n",
    "    for batch in train_loader:\n",
    "        print(batch, len(batch[\"input_ids\"][0]))\n",
    "        batch = {k: v for k, v in batch.items()}\n",
    "        outputs = model(**batch)\n",
    "        loss = outputs.loss\n",
    "        loss.backward()\n",
    "\n",
    "        optimizer.step()\n",
    "        lr_scheduler.step()\n",
    "        optimizer.zero_grad()\n",
    "        progress_bar.update(1)"
   ]
  },
  {
   "cell_type": "code",
   "execution_count": null,
   "id": "c0248909",
   "metadata": {},
   "outputs": [],
   "source": [
    "len(train_loader.dataset[\"attention_mask\"][54354]), len(train_loader.dataset[\"input_ids\"][54354])"
   ]
  },
  {
   "cell_type": "code",
   "execution_count": null,
   "id": "92f6532e",
   "metadata": {
    "scrolled": true
   },
   "outputs": [],
   "source": [
    "model"
   ]
  },
  {
   "cell_type": "code",
   "execution_count": null,
   "id": "2140e109",
   "metadata": {},
   "outputs": [],
   "source": [
    "\n"
   ]
  }
 ],
 "metadata": {
  "kernelspec": {
   "display_name": "Python 3 (ipykernel)",
   "language": "python",
   "name": "python3"
  },
  "language_info": {
   "codemirror_mode": {
    "name": "ipython",
    "version": 3
   },
   "file_extension": ".py",
   "mimetype": "text/x-python",
   "name": "python",
   "nbconvert_exporter": "python",
   "pygments_lexer": "ipython3",
   "version": "3.7.7"
  }
 },
 "nbformat": 4,
 "nbformat_minor": 5
}
