{
 "cells": [
  {
   "cell_type": "code",
   "execution_count": 13,
   "id": "273bbdb4",
   "metadata": {},
   "outputs": [],
   "source": [
    "import pickle\n",
    "\n",
    "import pandas as pd\n",
    "import sentencepiece as spm"
   ]
  },
  {
   "cell_type": "markdown",
   "id": "30b448eb",
   "metadata": {},
   "source": [
    "## Data Load"
   ]
  },
  {
   "cell_type": "code",
   "execution_count": 14,
   "id": "83c1266b",
   "metadata": {},
   "outputs": [],
   "source": [
    "# with open(\"/home/yehoon/workspace/llama_prj/data/merged/train.00007.pkl\", \"rb\") as f:\n",
    "#     train_df = pickle.load(f)\n",
    "    \n",
    "# with open(\"/home/yehoon/workspace/llama_prj/data/merged/validation.00000.pkl\", \"rb\") as f:\n",
    "#     valid_df = pickle.load(f)"
   ]
  },
  {
   "cell_type": "code",
   "execution_count": 15,
   "id": "babca537",
   "metadata": {},
   "outputs": [],
   "source": [
    "# train_df.columns = [\"text\"]\n",
    "# print(train_df.shape)\n",
    "# train_df.head()"
   ]
  },
  {
   "cell_type": "code",
   "execution_count": 16,
   "id": "3d352414",
   "metadata": {},
   "outputs": [],
   "source": [
    "# valid_df.columns = [\"text\"]\n",
    "# print(valid_df.shape)\n",
    "# valid_df.head()"
   ]
  },
  {
   "cell_type": "markdown",
   "id": "9f33207e",
   "metadata": {},
   "source": [
    "## Tokenize"
   ]
  },
  {
   "cell_type": "code",
   "execution_count": null,
   "id": "a6cde385",
   "metadata": {},
   "outputs": [],
   "source": []
  }
 ],
 "metadata": {
  "kernelspec": {
   "display_name": "Python 3 (ipykernel)",
   "language": "python",
   "name": "python3"
  },
  "language_info": {
   "codemirror_mode": {
    "name": "ipython",
    "version": 3
   },
   "file_extension": ".py",
   "mimetype": "text/x-python",
   "name": "python",
   "nbconvert_exporter": "python",
   "pygments_lexer": "ipython3",
   "version": "3.7.0"
  }
 },
 "nbformat": 4,
 "nbformat_minor": 5
}
