{
 "cells": [
  {
   "cell_type": "code",
   "execution_count": 7,
   "id": "c55e68f9",
   "metadata": {},
   "outputs": [],
   "source": [
    "import pandas as pd\n",
    "import json"
   ]
  },
  {
   "cell_type": "code",
   "execution_count": 8,
   "id": "5cd228a4",
   "metadata": {},
   "outputs": [],
   "source": [
    "def raw_data_load(path):\n",
    "    with open (path, \"rb\") as f:\n",
    "        f = json.load(f)\n",
    "\n",
    "    df = pd.DataFrame(f[\"data\"])\n",
    "    return df"
   ]
  },
  {
   "cell_type": "code",
   "execution_count": 9,
   "id": "49da2e81",
   "metadata": {},
   "outputs": [],
   "source": [
    "def make_dict(df):\n",
    "    paragraphs_dict = {\"instruction\": [], \"input\": [], \"output\": []}\n",
    "    for i in range(df.shape[0]):\n",
    "        paragraphs_dict[\"instruction\"].append(df.iloc[i, 0][0][\"qas\"][0][\"question\"])\n",
    "        paragraphs_dict[\"input\"].append(df.iloc[i, 0][0][\"context\"])\n",
    "        paragraphs_dict[\"output\"].append(df.iloc[i, 0][0][\"qas\"][0][\"answers\"][0][\"text\"])\n",
    "    return paragraphs_dict"
   ]
  },
  {
   "cell_type": "code",
   "execution_count": 10,
   "id": "d4305601",
   "metadata": {},
   "outputs": [],
   "source": [
    "def add_data(df, data_dict):\n",
    "    df[\"instruction\"] = paragraphs_dict[\"instruction\"]\n",
    "    df[\"input\"] = paragraphs_dict[\"input\"]\n",
    "    df[\"output\"] = paragraphs_dict[\"output\"]\n",
    "    df.drop([\"paragraphs\", \"title\"], axis=1, inplace=True)\n",
    "    return df"
   ]
  },
  {
   "cell_type": "code",
   "execution_count": 5,
   "id": "e1554923",
   "metadata": {},
   "outputs": [
    {
     "ename": "NameError",
     "evalue": "name 'df' is not defined",
     "output_type": "error",
     "traceback": [
      "\u001b[0;31m---------------------------------------------------------------------------\u001b[0m",
      "\u001b[0;31mNameError\u001b[0m                                 Traceback (most recent call last)",
      "\u001b[0;32m/tmp/ipykernel_47854/1396537375.py\u001b[0m in \u001b[0;36m<cell line: 1>\u001b[0;34m()\u001b[0m\n\u001b[0;32m----> 1\u001b[0;31m \u001b[0mdf\u001b[0m\u001b[0;34m\u001b[0m\u001b[0;34m\u001b[0m\u001b[0m\n\u001b[0m",
      "\u001b[0;31mNameError\u001b[0m: name 'df' is not defined"
     ]
    }
   ],
   "source": [
    "df"
   ]
  },
  {
   "cell_type": "code",
   "execution_count": 6,
   "id": "b8b1fac3",
   "metadata": {},
   "outputs": [],
   "source": [
    "def save_to_json(df, save_path):\n",
    "    df.to_json(save_path, force_ascii=False, orient=\"records\")"
   ]
  },
  {
   "cell_type": "code",
   "execution_count": null,
   "id": "9cc2fe5e",
   "metadata": {},
   "outputs": [],
   "source": []
  },
  {
   "cell_type": "code",
   "execution_count": 92,
   "id": "5ab5e40f",
   "metadata": {},
   "outputs": [
    {
     "data": {
      "text/html": [
       "<div>\n",
       "<style scoped>\n",
       "    .dataframe tbody tr th:only-of-type {\n",
       "        vertical-align: middle;\n",
       "    }\n",
       "\n",
       "    .dataframe tbody tr th {\n",
       "        vertical-align: top;\n",
       "    }\n",
       "\n",
       "    .dataframe thead th {\n",
       "        text-align: right;\n",
       "    }\n",
       "</style>\n",
       "<table border=\"1\" class=\"dataframe\">\n",
       "  <thead>\n",
       "    <tr style=\"text-align: right;\">\n",
       "      <th></th>\n",
       "      <th>name</th>\n",
       "      <th>instructions</th>\n",
       "      <th>input</th>\n",
       "      <th>output</th>\n",
       "    </tr>\n",
       "  </thead>\n",
       "  <tbody>\n",
       "    <tr>\n",
       "      <th>0</th>\n",
       "      <td>다테_기미코</td>\n",
       "      <td>다테 기미코가 최초로 은퇴 선언을 한게 언제지</td>\n",
       "      <td>재팬 오픈에서 4회 우승하였으며, 통산 단식 200승 이상을 거두었다. 1994년 ...</td>\n",
       "      <td>1996년 9월 24일</td>\n",
       "    </tr>\n",
       "    <tr>\n",
       "      <th>1</th>\n",
       "      <td>Ave;new</td>\n",
       "      <td>ave;new 본거지 어디야</td>\n",
       "      <td>ave;new(아베;뉴, アベニュー)는 도쿄 치요다구에 본 거처를 둔 일본의 음악 ...</td>\n",
       "      <td>도쿄 치요다구</td>\n",
       "    </tr>\n",
       "    <tr>\n",
       "      <th>2</th>\n",
       "      <td>사카이_다다요시_(1714년)</td>\n",
       "      <td>사카이 다다요시의 아버지가 누구지</td>\n",
       "      <td>사카이 다다요시(일본어: 酒井忠休, 1714년 9월 24일 ~ 1787년 6월 3일...</td>\n",
       "      <td>사카이 나오타카(酒井直隆)</td>\n",
       "    </tr>\n",
       "    <tr>\n",
       "      <th>3</th>\n",
       "      <td>일반성면</td>\n",
       "      <td>일반성면의 면적이 얼마야</td>\n",
       "      <td>일반성면은 동부 5개 면의 교통, 문화, 교육, 상업의 중심지로서 일찍부터 상업이 ...</td>\n",
       "      <td>19.41 km²</td>\n",
       "    </tr>\n",
       "    <tr>\n",
       "      <th>4</th>\n",
       "      <td>금나라</td>\n",
       "      <td>금나라를 세운 사람이 누구야</td>\n",
       "      <td>지방은 전국을 19개 로(路)로 나누고, 그 아래에 부(府)나 주(州)를 두고, 다...</td>\n",
       "      <td>태조 아구다</td>\n",
       "    </tr>\n",
       "    <tr>\n",
       "      <th>...</th>\n",
       "      <td>...</td>\n",
       "      <td>...</td>\n",
       "      <td>...</td>\n",
       "      <td>...</td>\n",
       "    </tr>\n",
       "    <tr>\n",
       "      <th>68533</th>\n",
       "      <td>브라마나</td>\n",
       "      <td>네 가지 베다의 주해서가 뭐야</td>\n",
       "      <td>《브라나마》는 베다의 신화, 철학, 의식에 대한 주해서이다. 《리그베다》의 경우 그...</td>\n",
       "      <td>브라마나</td>\n",
       "    </tr>\n",
       "    <tr>\n",
       "      <th>68534</th>\n",
       "      <td>노태우</td>\n",
       "      <td>보안사 민간인 사찰 사건이 뭐야</td>\n",
       "      <td>또한 영남출신의 군인중심인 하나회가 조장했다는 설도 있다. 또한 1990년 1월 무...</td>\n",
       "      <td>1990년 보안사령부(현재의 기무사)에 근무하던 윤석양 이병이 보안사의 사찰 대상 ...</td>\n",
       "    </tr>\n",
       "    <tr>\n",
       "      <th>68535</th>\n",
       "      <td>FM 음악도시</td>\n",
       "      <td>FM 음악도시의 1대 진행자는</td>\n",
       "      <td>이 프로그램은 밤의 디스크쇼, FM 데이트(시간대 변경) 이후 1996년 4월 봄 ...</td>\n",
       "      <td>신해철</td>\n",
       "    </tr>\n",
       "    <tr>\n",
       "      <th>68536</th>\n",
       "      <td>파푸아뉴기니</td>\n",
       "      <td>파푸아뉴기니는 몇 개의 주가 있어</td>\n",
       "      <td>제2차 세계 대전 이후 두 영토는 파푸아 보호령으로 통일되었으며, 이후에 \"파푸아뉴...</td>\n",
       "      <td>21개</td>\n",
       "    </tr>\n",
       "    <tr>\n",
       "      <th>68537</th>\n",
       "      <td>메이저 (만화)</td>\n",
       "      <td>메이저에서 고로가 미후네로 돌아와서 야구부가 아닌 축구부에 들어간 이유가 뭐야</td>\n",
       "      <td>계속해서 포기하지 않고 싸우던 미후네 돌핀스는 마침내 요코하마 리틀에게서 승리를 쟁...</td>\n",
       "      <td>후쿠오카 리틀리그에서 오른쪽 어깨에 부상을 입은 뒤로 야구부에 들어가지 않았다</td>\n",
       "    </tr>\n",
       "  </tbody>\n",
       "</table>\n",
       "<p>68538 rows × 4 columns</p>\n",
       "</div>"
      ],
      "text/plain": [
       "                   name                                 instructions  \\\n",
       "0                다테_기미코                    다테 기미코가 최초로 은퇴 선언을 한게 언제지   \n",
       "1               Ave;new                              ave;new 본거지 어디야   \n",
       "2      사카이_다다요시_(1714년)                           사카이 다다요시의 아버지가 누구지   \n",
       "3                  일반성면                                일반성면의 면적이 얼마야   \n",
       "4                   금나라                              금나라를 세운 사람이 누구야   \n",
       "...                 ...                                          ...   \n",
       "68533              브라마나                             네 가지 베다의 주해서가 뭐야   \n",
       "68534               노태우                            보안사 민간인 사찰 사건이 뭐야   \n",
       "68535           FM 음악도시                             FM 음악도시의 1대 진행자는   \n",
       "68536            파푸아뉴기니                           파푸아뉴기니는 몇 개의 주가 있어   \n",
       "68537          메이저 (만화)  메이저에서 고로가 미후네로 돌아와서 야구부가 아닌 축구부에 들어간 이유가 뭐야   \n",
       "\n",
       "                                                   input  \\\n",
       "0      재팬 오픈에서 4회 우승하였으며, 통산 단식 200승 이상을 거두었다. 1994년 ...   \n",
       "1      ave;new(아베;뉴, アベニュー)는 도쿄 치요다구에 본 거처를 둔 일본의 음악 ...   \n",
       "2      사카이 다다요시(일본어: 酒井忠休, 1714년 9월 24일 ~ 1787년 6월 3일...   \n",
       "3      일반성면은 동부 5개 면의 교통, 문화, 교육, 상업의 중심지로서 일찍부터 상업이 ...   \n",
       "4      지방은 전국을 19개 로(路)로 나누고, 그 아래에 부(府)나 주(州)를 두고, 다...   \n",
       "...                                                  ...   \n",
       "68533  《브라나마》는 베다의 신화, 철학, 의식에 대한 주해서이다. 《리그베다》의 경우 그...   \n",
       "68534  또한 영남출신의 군인중심인 하나회가 조장했다는 설도 있다. 또한 1990년 1월 무...   \n",
       "68535  이 프로그램은 밤의 디스크쇼, FM 데이트(시간대 변경) 이후 1996년 4월 봄 ...   \n",
       "68536  제2차 세계 대전 이후 두 영토는 파푸아 보호령으로 통일되었으며, 이후에 \"파푸아뉴...   \n",
       "68537  계속해서 포기하지 않고 싸우던 미후네 돌핀스는 마침내 요코하마 리틀에게서 승리를 쟁...   \n",
       "\n",
       "                                                  output  \n",
       "0                                           1996년 9월 24일  \n",
       "1                                                도쿄 치요다구  \n",
       "2                                         사카이 나오타카(酒井直隆)  \n",
       "3                                              19.41 km²  \n",
       "4                                                 태조 아구다  \n",
       "...                                                  ...  \n",
       "68533                                               브라마나  \n",
       "68534  1990년 보안사령부(현재의 기무사)에 근무하던 윤석양 이병이 보안사의 사찰 대상 ...  \n",
       "68535                                                신해철  \n",
       "68536                                                21개  \n",
       "68537        후쿠오카 리틀리그에서 오른쪽 어깨에 부상을 입은 뒤로 야구부에 들어가지 않았다  \n",
       "\n",
       "[68538 rows x 4 columns]"
      ]
     },
     "execution_count": 92,
     "metadata": {},
     "output_type": "execute_result"
    }
   ],
   "source": [
    "tmp = pd.read_json(\"./ai_hub.json\")\n",
    "tmp"
   ]
  },
  {
   "cell_type": "markdown",
   "id": "24298fbf",
   "metadata": {},
   "source": [
    "## Data Examples"
   ]
  },
  {
   "cell_type": "code",
   "execution_count": 34,
   "id": "deb94fd0",
   "metadata": {},
   "outputs": [
    {
     "data": {
      "text/plain": [
       "{'qas': [{'question': '메이저에서 고로가 미후네로 돌아와서 야구부가 아닌 축구부에 들어간 이유가 뭐야',\n",
       "   'answers': [{'answer_start': 346,\n",
       "     'text': '후쿠오카 리틀리그에서 오른쪽 어깨에 부상을 입은 뒤로 야구부에 들어가지 않았다'}],\n",
       "   'id': '8_C44_wiki_1522-1'}],\n",
       " 'context': '계속해서 포기하지 않고 싸우던 미후네 돌핀스는 마침내 요코하마 리틀에게서 승리를 쟁취하지만 승리함과 동시에 기권하였기 때문에 전국대회는 나가지 못한다. 계절의 끝, 고로의 의붓 엄마가 시게노 히데키와 결혼하고 시게노가 마린스타즈에서 이적했기 때문에 새로운 가족은 요코하마를 떠나게 되었다. 그리고 고로는 팀원들에게 언젠가는 돌아오겠다는 말만 남긴채 후쿠오카로 가게 된다. 그의 양아버지가 다시 블루오션스로 트레이드되었을 때 다시 미후네로 돌아오고 리틀 야구 시절 친구들이 자라나던 미후네 동중학교로 전학했다. 그러나, 그가 축구부에 들어가서 축구를 하고 야구부에 들어가서 야구를 하지 않자 친구들은 놀라워하지만 나중에 후쿠오카 리틀리그에서 오른쪽 어깨에 부상을 입은 뒤로 야구부에 들어가지 않았다는 사실을 알고 이해한다. 고로는 야구부를 살리려는 코모리를 위협하는 불량 부원의 마음을 바꿔 놓고 함께 중학교 야구부를 재건한다. 팀은 지역 토너먼트에서 강한 실력을 발휘하고 4강에서 친구이자 라이벌은 사토 토시야가 있는 토모노우라 중학교 야구부를 상대로 승리하는 등 지방대회에서 우승하게 된다.'}"
      ]
     },
     "execution_count": 34,
     "metadata": {},
     "output_type": "execute_result"
    }
   ],
   "source": [
    "df.iloc[i, 0][0]"
   ]
  },
  {
   "cell_type": "code",
   "execution_count": 35,
   "id": "ed17a8a9",
   "metadata": {},
   "outputs": [
    {
     "data": {
      "text/plain": [
       "'계속해서 포기하지 않고 싸우던 미후네 돌핀스는 마침내 요코하마 리틀에게서 승리를 쟁취하지만 승리함과 동시에 기권하였기 때문에 전국대회는 나가지 못한다. 계절의 끝, 고로의 의붓 엄마가 시게노 히데키와 결혼하고 시게노가 마린스타즈에서 이적했기 때문에 새로운 가족은 요코하마를 떠나게 되었다. 그리고 고로는 팀원들에게 언젠가는 돌아오겠다는 말만 남긴채 후쿠오카로 가게 된다. 그의 양아버지가 다시 블루오션스로 트레이드되었을 때 다시 미후네로 돌아오고 리틀 야구 시절 친구들이 자라나던 미후네 동중학교로 전학했다. 그러나, 그가 축구부에 들어가서 축구를 하고 야구부에 들어가서 야구를 하지 않자 친구들은 놀라워하지만 나중에 후쿠오카 리틀리그에서 오른쪽 어깨에 부상을 입은 뒤로 야구부에 들어가지 않았다는 사실을 알고 이해한다. 고로는 야구부를 살리려는 코모리를 위협하는 불량 부원의 마음을 바꿔 놓고 함께 중학교 야구부를 재건한다. 팀은 지역 토너먼트에서 강한 실력을 발휘하고 4강에서 친구이자 라이벌은 사토 토시야가 있는 토모노우라 중학교 야구부를 상대로 승리하는 등 지방대회에서 우승하게 된다.'"
      ]
     },
     "execution_count": 35,
     "metadata": {},
     "output_type": "execute_result"
    }
   ],
   "source": [
    "df.iloc[i, 0][0][\"context\"]"
   ]
  },
  {
   "cell_type": "code",
   "execution_count": 32,
   "id": "bbc67161",
   "metadata": {},
   "outputs": [
    {
     "data": {
      "text/plain": [
       "'후쿠오카 리틀리그에서 오른쪽 어깨에 부상을 입은 뒤로 야구부에 들어가지 않았다'"
      ]
     },
     "execution_count": 32,
     "metadata": {},
     "output_type": "execute_result"
    }
   ],
   "source": [
    "df.iloc[i, 0][0][\"qas\"][0][\"answers\"][0][\"text\"]"
   ]
  },
  {
   "cell_type": "code",
   "execution_count": 23,
   "id": "238f0185",
   "metadata": {},
   "outputs": [
    {
     "data": {
      "text/plain": [
       "{'qas': [{'question': '애틀리 은퇴 이후 노동당 당수를 맡은 사람은',\n",
       "   'answers': [{'answer_start': 337, 'text': '휴 게이츠켈'}],\n",
       "   'id': '9_f10_wiki_2620-1'}],\n",
       " 'context': '1905년 옥스퍼드 대학교를 졸업한 후 변호사 개업을 하였고, 런던 대학교 강사를 역임했다. 변호사 생활 중 제1차 세계대전에 참가하여 소령으로 복무했다. 이후 정계에 입문하여 1922년 노동당 의원이 되고, 1924년 제1차 노동당 내각의 육군차관, 제2차 노동당 내각의 체신장관 등을 지내고, 1935년 당수가 되었다. 제2차 세계대전 후 1945년 선거에서 대승하고 노동당 내각을 성립시켜 총리가 되었다. 애틀리 노동당 정부는 국민에게 내핍을 호소하고 영국은행·철도·석탄·가스·전신전화 등 중요한 기간산업(基幹産業)의 국유화를 추진했다. 1951년의 선거에서 패배하고 1955년에 은퇴, 당수직을 휴 게이츠켈에게 이양했다. 1950년 6월 28일, 한국전쟁이 일어났을 무렵, 일본해역 영국 함대를 미군 지휘 아래 편입하기로 언명하였다.'}"
      ]
     },
     "execution_count": 23,
     "metadata": {},
     "output_type": "execute_result"
    }
   ],
   "source": [
    "df.iloc[i-65846, 0][0]"
   ]
  },
  {
   "cell_type": "code",
   "execution_count": 25,
   "id": "925e6f12",
   "metadata": {},
   "outputs": [
    {
     "data": {
      "text/plain": [
       "{'qas': [{'question': '에디 슬리먼이 생 로랑에서 맡은 직책이 뭐야',\n",
       "   'answers': [{'answer_start': 458, 'text': '수석 디자이너이자 포토그래퍼'}],\n",
       "   'id': '8_C55_wiki_23-1'}],\n",
       " 'context': '키 186cm에 몸무게 70kg인 그는 디올 옴므가 대한민국에 수입되기 전부터 입고 다녔다. 에디 슬리먼(Hedi Slimane)(1968년 7월 5일 ~ ,파리 출생)은 프랑스의 패션 디자이너로, 이탈리아 계통의 브라질인이다. 2000년대 초반 디올 옴므(Dior Homme)의 수장 임명되어 크리에이티브 디렉터로써 디자인뿐만 아니라 향수, 시계 라인 등을 런칭한다. 파격적인 슬림함, 일명 스키니라 불리는 트렌드를 일으키지만 일각에서는 일반 남성복에 비해 페미닌하다는 지적을 받기도 한다. 2007년 4월, 디올 옴므를 떠나 LA로 이주하여 포토그래퍼로서의 삶을 시작하였다. 2012년 3월 이브 생 로랑(Yves Saint Laurent) 하우스의 브랜드 이미지와 컬렉션에 대한 모든 책무를 부여 받으며 크리에이티브 디렉터로 임명되었고, 브랜드명을 생 로랑(Saint Laurent)으로 변경하며 현재 생 로랑의 수석 디자이너이자 포토그래퍼로 활동 중이다. 에디 슬리먼은 1968년 7월 5일, 파리에서 튀니지 출신의 아버지와 이탈리아 출신의 어머니 사이에서 태어났다.'}"
      ]
     },
     "execution_count": 25,
     "metadata": {},
     "output_type": "execute_result"
    }
   ],
   "source": [
    "df.iloc[i-565, 0][0]"
   ]
  },
  {
   "cell_type": "code",
   "execution_count": 26,
   "id": "89f04b0a",
   "metadata": {},
   "outputs": [
    {
     "data": {
      "text/plain": [
       "{'qas': [{'question': '시민결합제도는 어느 나라에서 최초로 시행되었어',\n",
       "   'answers': [{'answer_start': 144, 'text': '덴마크'}],\n",
       "   'id': '9_f8_wiki_682-1'}],\n",
       " 'context': '시민결합 제도는 본래 20세기 말 LGBT인권의 신장과 함께 사회의 동성결혼 허용 요구에 대한 정치적 대체제로서 탄생하였으며, 지금은 종종 동성결혼 제도로 발전하기 위한 일종의 디딤돌 또는 과도기적 현상으로 여겨지고 있다. 세계 최초의 시민결합은 1989년 덴마크에서 시작하여, 이후 뉴질랜드, 우루과이, 프랑스, 미국의 버몬트 주 등 세계 여러나라에 도입되었다. 이성간에만 허가되는 시민결합제도는 2002년 브라질에서 처음 입법하였으나 9년 후 동성커플에게도 허용하였다. 2014년 11월 현재 약 20여개 국가에서 시민결합제도를 운영 중이다.'}"
      ]
     },
     "execution_count": 26,
     "metadata": {},
     "output_type": "execute_result"
    }
   ],
   "source": [
    "df.iloc[i-984, 0][0]"
   ]
  },
  {
   "cell_type": "code",
   "execution_count": 28,
   "id": "7382abd3",
   "metadata": {},
   "outputs": [
    {
     "data": {
      "text/plain": [
       "{'qas': [{'question': '앤서니 보이타노는 미국 어디 주에서 태어났어',\n",
       "   'answers': [{'answer_start': 77, 'text': '캘리포니아 주'}],\n",
       "   'id': '9_f7_wiki_2281-1'},\n",
       "  {'question': '앤서니 보이타노는 피겨 무슨 부문에서 활동함',\n",
       "   'answers': [{'answer_start': 91, 'text': '남자 싱글'}],\n",
       "   'id': '9_f7_wiki_2282-1'},\n",
       "  {'question': '앤서니 보이타노가 세계 주니어 선수권대회에서 우승한 해를 알려줘',\n",
       "   'answers': [{'answer_start': 112, 'text': '1978년'}],\n",
       "   'id': '9_f7_wiki_2283-1'},\n",
       "  {'question': '앤서니 보이타노의 대표적인 경쟁자는',\n",
       "   'answers': [{'answer_start': 165, 'text': '브라이언 오서'}],\n",
       "   'id': '9_f7_wiki_2286-1'},\n",
       "  {'question': '앤서니 보이타노는 미국의 어느 주 출생이지',\n",
       "   'answers': [{'answer_start': 77, 'text': '캘리포니아 주'}],\n",
       "   'id': '9_f7_wiki_2293-1'},\n",
       "  {'question': '앤서니 보이타노의 피겨종목이 뭐지',\n",
       "   'answers': [{'answer_start': 91, 'text': '남자 싱글'}],\n",
       "   'id': '9_f7_wiki_2294-1'},\n",
       "  {'question': '앤서니 보이타노는 몇년도에 세계 주니어 선수권대회에서 우승을 했지',\n",
       "   'answers': [{'answer_start': 112, 'text': '1978년'}],\n",
       "   'id': '9_f7_wiki_2295-1'},\n",
       "  {'question': '앤서니 보이타노와 경쟁 구도를 형성했던 선수가 누구야',\n",
       "   'answers': [{'answer_start': 165, 'text': '브라이언 오서'}],\n",
       "   'id': '9_f7_wiki_2298-1'}],\n",
       " 'context': '브라이언 앤서니 보이타노(Brian Anthony Boitano, 1963년 10월 22일 ~ )는 미국의 남자 피겨 스케이팅 선수이다. 캘리포니아 주 출신이다. 남자 싱글 부문에서 활동하기 시작하여 1978년 세계 주니어 선수권에서 캐나다의 브라이언 오서를 꺾고 우승하였다. 이 무렵부터 이미 브라이언 오서와의 경쟁 구도가 형성되었다. 1982년 미국 선수로는 처음으로 트리플 악셀 점프를 하는데 성공하였다. 1983년 ~ 1984년 스콧 해밀턴에 이어 미국 선수권에서 2위를 하였고, 1984년 동계 올림픽에서 5위를 하였다. 1984년 동계 올림픽 이후 다시 브라이언 오서와 라이벌로 경쟁하여 이름이 같은 두 브라이언 선수끼리의 대결이라 하여 브라이언 전쟁으로 불렸다.'}"
      ]
     },
     "execution_count": 28,
     "metadata": {},
     "output_type": "execute_result"
    }
   ],
   "source": [
    "df.iloc[i-33145, 0][0]"
   ]
  },
  {
   "cell_type": "code",
   "execution_count": 29,
   "id": "acf20633",
   "metadata": {},
   "outputs": [
    {
     "data": {
      "text/plain": [
       "{'qas': [{'question': '대종과 소종의 분류 뜻을 알려줘',\n",
       "   'answers': [{'answer_start': 178,\n",
       "     'text': '황제의 자식들은 대종이고 왕의 자식들은 소종이라 하여 신분의 차이'}],\n",
       "   'id': '8_C56_wiki_1683-1'}],\n",
       " 'context': '주나라나 제후의 나라는 읍(邑：도시국가)이었고, 그 구조는 씨족적 결합으로 구성되어 있었다. 이러한 씨족에 의해 이루어진 결합은 종법(宗法)에 의하여 규제되어 있었다. 부계 혈통의 종족 구성에서는 \"대종\"(大宗)과 \"소종(小宗)\"의 엄격한 구분이 있었다. 이는 곧 천자의 적장자만이 천자가 될 수 있었음을 의미하는데, 황제의 자식들은 대종이고 왕의 자식들은 소종이라 하여 신분의 차이가 있었다. 이러한 원칙은 제후·대부·사에게도 동일하게 적용되었으며, 전국적인 통치 제도에 이용되었다. 춘추 시대의 봉건 국가들은 주나라 황실의 정통성을 인정하였고 그러한 틀안에서 자신들의 패권을 다투었으나, 전국 시대에 접어들면서 주나라 왕실의 정통성은 유명무실화 되었다. 급기야 주나라 왕실이 권위가 유명무실화 되고 전국 칠웅의 국가들이 스스로 완전히 독립적인 존재임을 내세우게 되었다.(의문 1)주나라는 황제가 없음.'}"
      ]
     },
     "execution_count": 29,
     "metadata": {},
     "output_type": "execute_result"
    }
   ],
   "source": [
    "df.iloc[i-4615, 0][0]"
   ]
  },
  {
   "cell_type": "code",
   "execution_count": 30,
   "id": "1c2729e6",
   "metadata": {},
   "outputs": [
    {
     "data": {
      "text/plain": [
       "{'qas': [{'question': '데 레 메탈리카는 무엇을 조사 기술한거지',\n",
       "   'answers': [{'answer_start': 249,\n",
       "     'text': '독일 광산에 대한 탐광·채광·광석의 운반·갱내 환기·배수의 펌프 장치·야금 기술·광부의 조직·급료·건강 관리'}],\n",
       "   'id': '9_f5_wiki_2683-1'}],\n",
       " 'context': \"그는 인문 학자로서도 알려져 있지만, 후에 의학을 배운 뒤, 은광산촌으로 유명한 요아힘슈탈의 시의 (市醫) 가 되었다. 후에 그는 다른 광산촌 켐니츠로 옮겨가, 몇 번이나 시장에도 뽑힌 바 있다. 당시 광산업을 천한 업으로 보는 풍조가 있었으나, 그는 오히려 광산업의 중요성을 인정, 적극적으로 관찰을 계속하였다. 그리하여 드디어 유명한 《데 레 메탈리카(금속에 관하여)》를 저술하였다 (1556년 간행). 그는 풍부한 삽화까지 넣은 이 책으로 독일 광산에 대한 탐광·채광·광석의 운반·갱내 환기·배수의 펌프 장치·야금 기술·광부의 조직·급료·건강 관리에 이르기까지를 조사·기술 (記術) 하고, 광산에 과학기술을 도입할 것을 권유하고, 광산업을 하나의 학문으로 만들어 놓았다. 그가 '광물학의 아버지'로 숭앙되는 것은 이 때문이다. 만년에는 종교 문제가 계기가 되어 62세에 사망하였다.\"}"
      ]
     },
     "execution_count": 30,
     "metadata": {},
     "output_type": "execute_result"
    }
   ],
   "source": [
    "df.iloc[i-321, 0][0]"
   ]
  },
  {
   "cell_type": "code",
   "execution_count": null,
   "id": "0ce93575",
   "metadata": {},
   "outputs": [],
   "source": []
  }
 ],
 "metadata": {
  "kernelspec": {
   "display_name": "Python 3 (ipykernel)",
   "language": "python",
   "name": "python3"
  },
  "language_info": {
   "codemirror_mode": {
    "name": "ipython",
    "version": 3
   },
   "file_extension": ".py",
   "mimetype": "text/x-python",
   "name": "python",
   "nbconvert_exporter": "python",
   "pygments_lexer": "ipython3",
   "version": "3.9.13"
  }
 },
 "nbformat": 4,
 "nbformat_minor": 5
}
